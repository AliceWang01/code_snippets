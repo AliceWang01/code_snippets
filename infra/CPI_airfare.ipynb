{
 "cells": [
  {
   "cell_type": "code",
   "execution_count": null,
   "metadata": {},
   "outputs": [],
   "source": [
    "from statsmodels.tsa.ar_model import AutoReg\n",
    "import pandas as pd\n",
    "import compass_tools as ct\n",
    "import numpy as np\n",
    "import pandas as pd\n",
    "import os\n",
    "os.chdir(r'your directory')\n",
    "from pandas.tseries.offsets import DateOffset\n",
    "from datetime import datetime\n",
    "import matplotlib.pyplot as plt\n",
    "from getpass import getpass\n",
    "import snowflake.connector\n",
    "import statsmodels.api as sm\n",
    "# os.listdir()"
   ]
  },
  {
   "cell_type": "code",
   "execution_count": null,
   "metadata": {},
   "outputs": [],
   "source": [
    "ROLE = 'SFK_TEAM_MAC'\n",
    "WAREHOUSE = 'SFK_TEAM_MAC_XS'\n",
    "db_name = 'DIG_SHARE_INFARE_AIR_TRAVEL_DATA'\n",
    "## Snowflake uses okta to authenticate, so input your regular password here when prompted\n",
    "## NOTE: You may need to save USERNAME as an account variable. You can also hardcode your username.\n",
    "conn_args = dict(\n",
    "    account='xxxx',\n",
    "    authenticator='https://urnetwork.com/',\n",
    "    user=os.environ['USERNAME'],  # May need to update\n",
    "    password=getpass(),\n",
    "    warehouse=WAREHOUSE,\n",
    "    role=ROLE,\n",
    ")\n",
    "\n",
    "conn = snowflake.connector.connect(**conn_args)\n",
    "sql = 'select * from DIG_SHARE_INFARE_AIR_TRAVEL_DATA.PUBLIC.V_MARKET_TRENDS_MACRO_BAM'\n",
    "infare_raw = pd.read_sql(sql, conn)\n",
    "infare_raw = infare_raw[infare_raw['COUNTRY'] == 'United States']\n",
    "infare_raw['id'] = infare_raw['DOMINT'] + '_' + infare_raw['WBD'].astype(str).apply(lambda x: x.lower())\n",
    "infare = infare_raw.pivot_table(values='PRICE_SIMPLE_AVG', columns='id', index='WEEK_OBS_REFDATE')\n",
    "infare = infare[['dom3', 'dom5', 'dom7', 'dom9', 'dom11']]\n",
    "infare['Date'] = pd.to_datetime(infare.index)\n",
    "infare.set_index(drop=True, inplace=True)\n",
    "infare.tail()"
   ]
  },
  {
   "cell_type": "code",
   "execution_count": null,
   "metadata": {},
   "outputs": [],
   "source": [
    "infare.to_csv('infare_weekly.csv')  # this will save the table above into a csv\n",
    "\n",
    "# Code 2: Copy the data from csv to infare_weekly_interpolated.xlsx and then\n",
    "infare = pd.read_excel('infare_weekly_interpolated.xlsx').set_index('Unnamed: 0')"
   ]
  },
  {
   "cell_type": "code",
   "execution_count": null,
   "metadata": {},
   "outputs": [],
   "source": [
    "new_rows = []\n",
    "\n",
    "# Iterate over the DataFrame rows\n",
    "for index, row in infare.iterrows():\n",
    "    # For each row, create six new rows with adjusted dates\n",
    "    for i in range(1, 4):\n",
    "        # Create rows for t-1, t-2, t-3\n",
    "        new_row_before = row.copy()\n",
    "        new_row_before['Date'] = row['Date'] - DateOffset(days=i)\n",
    "        new_rows.append(new_row_before)\n",
    "\n",
    "        # Create rows for t+1, t+2, t+3\n",
    "        new_row_after = row.copy()\n",
    "        new_row_after['Date'] = row['Date'] + DateOffset(days=i)\n",
    "        new_rows.append(new_row_after)\n",
    "\n",
    "# Convert the list of new rows to a DataFrame\n",
    "new_rows_df = pd.DataFrame(new_rows)\n",
    "\n",
    "# Concatenate the original DataFrame with the new rows DataFrame\n",
    "expanded_df = pd.concat([infare, new_rows_df], ignore_index=True)\n",
    "expanded_df['Date'] = pd.to_datetime(expanded_df['Date'])\n",
    "df_final = pd.concat([infare, expanded_df]).sort_values('Date').reindex()\n",
    "\n",
    "df = df_final.set_index('Date')\n",
    "df = df.resample('M').mean()\n",
    "df['pct_change'] = df.pct_change()*100\n",
    "df_mom = df.pct_change()\n",
    "df_mom_shift = df_mom.shift()\n",
    "df_mom_prior_mom = df_mom*0.4 + df_mom_shift*0.6\n",
    "df_mom.dropna(inplace=True)\n",
    "df_mom.index = df_mom.index.to_period('M')\n",
    "df_mom.tail()"
   ]
  },
  {
   "cell_type": "code",
   "execution_count": null,
   "metadata": {},
   "outputs": [],
   "source": [
    "seriesholder_list = [\n",
    "    ct.SeriesHolder(name='USCPI Air', data_source='Haver', ticker=\"USECON:UTUAN\")\n",
    "]\n",
    "\n",
    "air = ct.get_data(seriesholder_list, freq='Monthly').pct_change(fill_method=None)*100\n",
    "df = df_mom.join(air, how='left')\n",
    "df.tail()"
   ]
  },
  {
   "cell_type": "code",
   "execution_count": null,
   "metadata": {},
   "outputs": [],
   "source": [
    "weight = np.array((df.corr()['CPI-U: Airline Fare (NSA, 1982-84=100)'][:-1])/df.corr()['CPI-U: Airline Fare (NSA, 1982-84=100)'][:-1].sum())\n",
    "df['weighted'] = df_mom @ weight\n",
    "df['const'] = 1\n",
    "X = df['weighted']\n",
    "Y = df['CPI-U: Airline Fare (NSA, 1982-84=100)'].dropna()\n",
    "mod = sm.OLS(endog=Y, exog=X[:-1])\n",
    "result = mod.fit()\n",
    "print(result.summary())\n",
    "ols = result.get_prediction(X).predicted_mean"
   ]
  },
  {
   "cell_type": "code",
   "execution_count": null,
   "metadata": {},
   "outputs": [],
   "source": [
    "fig = plt.figure(figsize=(12, 8))\n",
    "ax1 = fig.add_subplot(211)\n",
    "fig = sm.graphics.tsa.plot_acf(df['CPI-U: Airline Fare (NSA, 1982-84=100)'][:-2], lags=24, ax=ax1)\n",
    "ax2 = fig.add_subplot(212)\n",
    "fig = sm.graphics.tsa.plot_pacf(df['CPI-U: Airline Fare (NSA, 1982-84=100)'][:-2], lags=24, ax=ax2)\n",
    "plt.show()"
   ]
  },
  {
   "cell_type": "code",
   "execution_count": null,
   "metadata": {},
   "outputs": [],
   "source": [
    "exog = df['weighted']\n",
    "\n",
    "for i in range(0, 5):\n",
    "    model = AutoReg(\n",
    "        df['CPI-U: Airline Fare (NSA, 1982-84=100)'][:-1],\n",
    "        lags=i,\n",
    "        period=12,\n",
    "        old_names=False,\n",
    "        exog=exog[:-1],\n",
    "        seasonal=True,\n",
    "        trend='n'\n",
    "    ).fit()\n",
    "    print(f\"model MAE for AR-{i} is\", (model.fittedvalues - df['CPI-U: Airline Fare (NSA, 1982-84=100)']).abs().mean())\n",
    "\n",
    "model = AutoReg(\n",
    "    df['CPI-U: Airline Fare (NSA, 1982-84=100)'][:-1],\n",
    "    lags=2,  # input picked AR-order\n",
    "    period=12,\n",
    "    old_names=False,\n",
    "    exog=exog[:-1],\n",
    "    seasonal=True,\n",
    "    trend='n'\n",
    ").fit()\n",
    "# model.summary()\n",
    "\n",
    "final_model = pd.concat([model.fittedvalues, model.forecast(1, exog=exog.iloc[-1:])])\n",
    "final_df = pd.DataFrame({'model': final_model}).join(air)\n",
    "final_df['ARX_error'] = final_df['CPI-U: Airline Fare (NSA, 1982-84=100)'] - final_df['model']\n",
    "final_df['ols'] = ols[2:]\n",
    "final_df['OLS_error'] = final_df['CPI-U: Airline Fare (NSA, 1982-84=100)'] - final_df['ols']\n",
    "final_df = final_df.join(df.drop('CPI-U: Airline Fare (NSA, 1982-84=100)', axis=1))\n",
    "\n",
    "today = datetime.today().strftime('%Y-%m-%d')\n",
    "final_df.drop(['const'], axis=1, inplace=True)\n",
    "final_df.to_excel(f'airfare_model_{today}.xlsx')"
   ]
  }
 ],
 "metadata": {
  "language_info": {
   "name": "python"
  }
 },
 "nbformat": 4,
 "nbformat_minor": 2
}
